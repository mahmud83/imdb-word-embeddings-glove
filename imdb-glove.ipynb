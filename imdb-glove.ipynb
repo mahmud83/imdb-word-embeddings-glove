{
 "cells": [
  {
   "cell_type": "code",
   "execution_count": 16,
   "metadata": {},
   "outputs": [],
   "source": [
    "import os\n",
    "from keras.preprocessing.text import Tokenizer\n",
    "from keras.preprocessing.sequence import pad_sequences\n",
    "import numpy as np\n",
    "from keras.models import Sequential\n",
    "from keras.layers import Embedding, Flatten, Dense\n",
    "import matplotlib.pyplot as plt\n",
    "import h5py"
   ]
  },
  {
   "cell_type": "code",
   "execution_count": 4,
   "metadata": {},
   "outputs": [],
   "source": [
    "# IMDB dataset\n",
    "imdb_dir = '/home/akshaj/projects_python/conda/arena-py3.6/sentiment-analysis/data/aclImdb'\n",
    "train_dir = os.path.join(imdb_dir, 'train')\n",
    "labels = []\n",
    "texts = []\n"
   ]
  },
  {
   "cell_type": "code",
   "execution_count": 5,
   "metadata": {},
   "outputs": [],
   "source": [
    "# GLoVE\n",
    "glove_dir = '/home/akshaj/projects_python/conda/arena-py3.6/sentiment-analysis/data/glove.6B'\n",
    "\n"
   ]
  },
  {
   "cell_type": "code",
   "execution_count": 6,
   "metadata": {},
   "outputs": [],
   "source": [
    "# Pre processing\n",
    "\n",
    "for label_type in ['neg', 'pos']:\n",
    "    dir_name = os.path.join(train_dir, label_type)\n",
    "    for fname in os.listdir(dir_name):\n",
    "        if fname[-4:] == '.txt':\n",
    "            f = open(os.path.join(dir_name, fname))\n",
    "            texts.append(f.read())\n",
    "            f.close()\n",
    "            if label_type == 'neg':\n",
    "                labels.append(0)\n",
    "            else:\n",
    "                labels.append(1)\n"
   ]
  },
  {
   "cell_type": "code",
   "execution_count": 7,
   "metadata": {},
   "outputs": [],
   "source": [
    "maxlen = 100  # Cut off reviews after 100 words\n",
    "training_samples = 500  # Train on 500 samples\n",
    "validation_samples = 10000  # Validate on 10,000 samples\n",
    "max_words = 10000  # Consider top 10000 words in the dataset\n",
    "\n",
    "tokenizer = Tokenizer(num_words=max_words)\n",
    "tokenizer.fit_on_texts(texts)\n",
    "sequences = tokenizer.texts_to_sequences(texts)\n",
    "\n"
   ]
  },
  {
   "cell_type": "code",
   "execution_count": 8,
   "metadata": {},
   "outputs": [
    {
     "name": "stdout",
     "output_type": "stream",
     "text": [
      "Found 88582 unique tokens.\n",
      "Shape of data tensor: (25000, 100)\n",
      "Shape of label tensor: (25000,)\n"
     ]
    }
   ],
   "source": [
    "word_index = tokenizer.word_index\n",
    "print('Found %s unique tokens.' % len(word_index))\n",
    "data = pad_sequences(sequences, maxlen=maxlen)\n",
    "labels = np.asarray(labels)\n",
    "print('Shape of data tensor:', data.shape)\n",
    "print('Shape of label tensor:', labels.shape)\n"
   ]
  },
  {
   "cell_type": "code",
   "execution_count": 9,
   "metadata": {},
   "outputs": [],
   "source": [
    "# Shuffles and splits the data into a training set and a\n",
    "# validation set.\n",
    "\n",
    "indices = np.arange(data.shape[0])\n",
    "np.random.shuffle(indices)\n",
    "data = data[indices]\n",
    "labels = labels[indices]\n",
    "\n",
    "x_train = data[:training_samples]\n",
    "y_train = labels[:training_samples]\n",
    "x_val = data[training_samples: training_samples + validation_samples]\n",
    "y_val = labels[training_samples: training_samples + validation_samples]\n",
    "\n"
   ]
  },
  {
   "cell_type": "code",
   "execution_count": 10,
   "metadata": {},
   "outputs": [
    {
     "name": "stdout",
     "output_type": "stream",
     "text": [
      "Found 400000 word vectors.\n"
     ]
    }
   ],
   "source": [
    "# Parsing GLoVE word embedding files\n",
    "embeddings_index = {}\n",
    "f = open(os.path.join(glove_dir, 'glove.6B.100d.txt'))\n",
    "for line in f:\n",
    "    values = line.split()\n",
    "    word = values[0]\n",
    "    coefs = np.asarray(values[1:], dtype='float32')\n",
    "    embeddings_index[word] = coefs\n",
    "f.close()\n",
    "\n",
    "print('Found %s word vectors.' % len(embeddings_index))"
   ]
  },
  {
   "cell_type": "code",
   "execution_count": 11,
   "metadata": {},
   "outputs": [],
   "source": [
    "embedding_dim = 100\n",
    "embedding_matrix = np.zeros((max_words, embedding_dim))\n",
    "for word, i in word_index.items():\n",
    "    if i < max_words:\n",
    "        embedding_vector = embeddings_index.get(word)\n",
    "        if embedding_vector is not None:\n",
    "            embedding_matrix[i] = embedding_vector\n",
    "\n"
   ]
  },
  {
   "cell_type": "code",
   "execution_count": 13,
   "metadata": {},
   "outputs": [],
   "source": [
    "model = Sequential()\n",
    "model.add(Embedding(max_words, embedding_dim, input_length=maxlen))\n",
    "model.add(Flatten())\n",
    "model.add(Dense(32, activation='relu'))\n",
    "model.add(Dense(1, activation='sigmoid'))\n",
    "# model.summary()"
   ]
  },
  {
   "cell_type": "code",
   "execution_count": 14,
   "metadata": {},
   "outputs": [],
   "source": [
    "# Load pretrained word embeddings into the Embedding layer\n",
    "# Freeze the Embedding layer\n",
    "model.layers[0].set_weights([embedding_matrix])\n",
    "model.layers[0].trainable = False\n"
   ]
  },
  {
   "cell_type": "code",
   "execution_count": 17,
   "metadata": {},
   "outputs": [
    {
     "name": "stdout",
     "output_type": "stream",
     "text": [
      "Train on 500 samples, validate on 10000 samples\n",
      "Epoch 1/20\n",
      "500/500 [==============================] - 1s 2ms/step - loss: 0.0101 - acc: 1.0000 - val_loss: 0.9496 - val_acc: 0.5975\n",
      "Epoch 2/20\n",
      "500/500 [==============================] - 1s 2ms/step - loss: 0.0053 - acc: 1.0000 - val_loss: 1.0409 - val_acc: 0.5900\n",
      "Epoch 3/20\n",
      "500/500 [==============================] - 1s 2ms/step - loss: 0.0033 - acc: 1.0000 - val_loss: 1.0326 - val_acc: 0.5947\n",
      "Epoch 4/20\n",
      "500/500 [==============================] - 1s 2ms/step - loss: 0.0023 - acc: 1.0000 - val_loss: 1.0546 - val_acc: 0.5982\n",
      "Epoch 5/20\n",
      "500/500 [==============================] - 1s 2ms/step - loss: 0.0017 - acc: 1.0000 - val_loss: 1.0803 - val_acc: 0.5977\n",
      "Epoch 6/20\n",
      "500/500 [==============================] - 1s 2ms/step - loss: 0.0013 - acc: 1.0000 - val_loss: 1.1120 - val_acc: 0.5946\n",
      "Epoch 7/20\n",
      "500/500 [==============================] - 1s 2ms/step - loss: 0.0011 - acc: 1.0000 - val_loss: 1.1270 - val_acc: 0.5964\n",
      "Epoch 8/20\n",
      "500/500 [==============================] - 1s 2ms/step - loss: 8.9335e-04 - acc: 1.0000 - val_loss: 1.1396 - val_acc: 0.5988\n",
      "Epoch 9/20\n",
      "500/500 [==============================] - 1s 2ms/step - loss: 7.5898e-04 - acc: 1.0000 - val_loss: 1.1575 - val_acc: 0.5976\n",
      "Epoch 10/20\n",
      "500/500 [==============================] - 1s 2ms/step - loss: 6.6423e-04 - acc: 1.0000 - val_loss: 1.1775 - val_acc: 0.5962\n",
      "Epoch 11/20\n",
      "500/500 [==============================] - 1s 2ms/step - loss: 5.5624e-04 - acc: 1.0000 - val_loss: 1.1902 - val_acc: 0.5965\n",
      "Epoch 12/20\n",
      "500/500 [==============================] - 1s 2ms/step - loss: 4.9006e-04 - acc: 1.0000 - val_loss: 1.2033 - val_acc: 0.5965\n",
      "Epoch 13/20\n",
      "500/500 [==============================] - 1s 2ms/step - loss: 4.3464e-04 - acc: 1.0000 - val_loss: 1.2137 - val_acc: 0.5964\n",
      "Epoch 14/20\n",
      "500/500 [==============================] - 1s 2ms/step - loss: 3.8600e-04 - acc: 1.0000 - val_loss: 1.2313 - val_acc: 0.5954\n",
      "Epoch 15/20\n",
      "500/500 [==============================] - 1s 2ms/step - loss: 3.5159e-04 - acc: 1.0000 - val_loss: 1.2393 - val_acc: 0.5963\n",
      "Epoch 16/20\n",
      "500/500 [==============================] - 1s 2ms/step - loss: 3.1190e-04 - acc: 1.0000 - val_loss: 1.2489 - val_acc: 0.5982\n",
      "Epoch 17/20\n",
      "500/500 [==============================] - 1s 2ms/step - loss: 2.8232e-04 - acc: 1.0000 - val_loss: 1.2704 - val_acc: 0.5975\n",
      "Epoch 18/20\n",
      "500/500 [==============================] - 1s 2ms/step - loss: 2.5529e-04 - acc: 1.0000 - val_loss: 1.2775 - val_acc: 0.5962\n",
      "Epoch 19/20\n",
      "500/500 [==============================] - 1s 2ms/step - loss: 2.3187e-04 - acc: 1.0000 - val_loss: 1.2920 - val_acc: 0.5967\n",
      "Epoch 20/20\n",
      "500/500 [==============================] - 1s 2ms/step - loss: 2.1261e-04 - acc: 1.0000 - val_loss: 1.2999 - val_acc: 0.5976\n"
     ]
    }
   ],
   "source": [
    "# Compile and train\n",
    "\n",
    "model.compile(optimizer='adam',\n",
    "              loss='binary_crossentropy',\n",
    "              metrics=['acc'])\n",
    "history = model.fit(x_train, y_train,\n",
    "                    epochs=20,\n",
    "                    batch_size=32,\n",
    "                    validation_data=(x_val, y_val))\n"
   ]
  },
  {
   "cell_type": "code",
   "execution_count": 23,
   "metadata": {},
   "outputs": [],
   "source": [
    "# import h5py\n",
    "# model.save_weights('pre_trained_glove_model.h5')"
   ]
  },
  {
   "cell_type": "code",
   "execution_count": 24,
   "metadata": {},
   "outputs": [
    {
     "data": {
      "image/png": "[encoded data removed]",
      "text/plain": [
       "<Figure size 432x288 with 1 Axes>"
      ]
     },
     "metadata": {},
     "output_type": "display_data"
    },
    {
     "data": {
      "image/png": "[encoded data removed]",
      "text/plain": [
       "<Figure size 432x288 with 1 Axes>"
      ]
     },
     "metadata": {},
     "output_type": "display_data"
    }
   ],
   "source": [
    "# Plot the results\n",
    "acc = history.history['acc']\n",
    "val_acc = history.history['val_acc']\n",
    "loss = history.history['loss']\n",
    "val_loss = history.history['val_loss']\n",
    "\n",
    "epochs = range(1, len(acc) + 1)\n",
    "\n",
    "plt.plot(epochs, acc, 'bo', label='Training acc')\n",
    "plt.plot(epochs, val_acc, 'b', label='Validation acc')\n",
    "plt.title('Training and validation accuracy')\n",
    "\n",
    "plt.legend()\n",
    "plt.figure()\n",
    "\n",
    "plt.plot(epochs, loss, 'bo', label='Training loss')\n",
    "plt.plot(epochs, val_loss, 'b', label='Validation loss')\n",
    "plt.title('Training and validation loss')\n",
    "plt.legend()\n",
    "\n",
    "plt.show()"
   ]
  },
  {
   "cell_type": "code",
   "execution_count": 25,
   "metadata": {},
   "outputs": [
    {
     "name": "stdout",
     "output_type": "stream",
     "text": [
      "Train on 500 samples, validate on 10000 samples\n",
      "Epoch 1/20\n",
      "500/500 [==============================] - 1s 3ms/step - loss: 0.6953 - acc: 0.5220 - val_loss: 0.6909 - val_acc: 0.5289\n",
      "Epoch 2/20\n",
      "500/500 [==============================] - 1s 2ms/step - loss: 0.4783 - acc: 0.9620 - val_loss: 0.6893 - val_acc: 0.5429\n",
      "Epoch 3/20\n",
      "500/500 [==============================] - 1s 2ms/step - loss: 0.1909 - acc: 0.9900 - val_loss: 0.6886 - val_acc: 0.5615\n",
      "Epoch 4/20\n",
      "500/500 [==============================] - 1s 2ms/step - loss: 0.0562 - acc: 1.0000 - val_loss: 0.6935 - val_acc: 0.5710\n",
      "Epoch 5/20\n",
      "500/500 [==============================] - 1s 2ms/step - loss: 0.0186 - acc: 1.0000 - val_loss: 0.7044 - val_acc: 0.5752\n",
      "Epoch 6/20\n",
      "500/500 [==============================] - 1s 2ms/step - loss: 0.0064 - acc: 1.0000 - val_loss: 0.7163 - val_acc: 0.5779\n",
      "Epoch 7/20\n",
      "500/500 [==============================] - 1s 2ms/step - loss: 0.0023 - acc: 1.0000 - val_loss: 0.7319 - val_acc: 0.5797\n",
      "Epoch 8/20\n",
      "500/500 [==============================] - 1s 2ms/step - loss: 9.2129e-04 - acc: 1.0000 - val_loss: 0.7462 - val_acc: 0.5832\n",
      "Epoch 9/20\n",
      "500/500 [==============================] - 1s 2ms/step - loss: 3.3887e-04 - acc: 1.0000 - val_loss: 0.7646 - val_acc: 0.5861\n",
      "Epoch 10/20\n",
      "500/500 [==============================] - 1s 2ms/step - loss: 1.3369e-04 - acc: 1.0000 - val_loss: 0.7887 - val_acc: 0.5841\n",
      "Epoch 11/20\n",
      "500/500 [==============================] - 1s 2ms/step - loss: 5.5022e-05 - acc: 1.0000 - val_loss: 0.8064 - val_acc: 0.5905\n",
      "Epoch 12/20\n",
      "500/500 [==============================] - 1s 2ms/step - loss: 2.1997e-05 - acc: 1.0000 - val_loss: 0.8260 - val_acc: 0.5886\n",
      "Epoch 13/20\n",
      "500/500 [==============================] - 1s 2ms/step - loss: 9.7113e-06 - acc: 1.0000 - val_loss: 0.8490 - val_acc: 0.5872\n",
      "Epoch 14/20\n",
      "500/500 [==============================] - 1s 2ms/step - loss: 4.4335e-06 - acc: 1.0000 - val_loss: 0.8686 - val_acc: 0.5905\n",
      "Epoch 15/20\n",
      "500/500 [==============================] - 1s 2ms/step - loss: 2.1879e-06 - acc: 1.0000 - val_loss: 0.8920 - val_acc: 0.5898\n",
      "Epoch 16/20\n",
      "500/500 [==============================] - 1s 2ms/step - loss: 1.1737e-06 - acc: 1.0000 - val_loss: 0.9159 - val_acc: 0.5888\n",
      "Epoch 17/20\n",
      "500/500 [==============================] - 1s 2ms/step - loss: 6.7170e-07 - acc: 1.0000 - val_loss: 0.9360 - val_acc: 0.5906\n",
      "Epoch 18/20\n",
      "500/500 [==============================] - 1s 2ms/step - loss: 4.0298e-07 - acc: 1.0000 - val_loss: 0.9588 - val_acc: 0.5908\n",
      "Epoch 19/20\n",
      "500/500 [==============================] - 1s 2ms/step - loss: 2.5139e-07 - acc: 1.0000 - val_loss: 0.9808 - val_acc: 0.5902\n",
      "Epoch 20/20\n",
      "500/500 [==============================] - 1s 2ms/step - loss: 1.7010e-07 - acc: 1.0000 - val_loss: 0.9980 - val_acc: 0.5907\n"
     ]
    }
   ],
   "source": [
    "#  Train the same model without pretrained word embeddings\n",
    "model = Sequential()\n",
    "model.add(Embedding(max_words, embedding_dim, input_length=maxlen))\n",
    "model.add(Flatten())\n",
    "model.add(Dense(32, activation='relu'))\n",
    "model.add(Dense(1, activation='sigmoid'))\n",
    "# model.summary()\n",
    "\n",
    "model.compile(optimizer='rmsprop', loss='binary_crossentropy', metrics=['acc'])\n",
    "history = model.fit(x_train, y_train, epochs=20, batch_size=32, validation_data=(x_val, y_val))"
   ]
  },
  {
   "cell_type": "code",
   "execution_count": 26,
   "metadata": {},
   "outputs": [
    {
     "data": {
      "image/png": "[encoded data removed]",
      "text/plain": [
       "<Figure size 432x288 with 1 Axes>"
      ]
     },
     "metadata": {},
     "output_type": "display_data"
    },
    {
     "data": {
      "image/png": "[encoded data removed]",
      "text/plain": [
       "<Figure size 432x288 with 1 Axes>"
      ]
     },
     "metadata": {},
     "output_type": "display_data"
    }
   ],
   "source": [
    "# Plot the results\n",
    "acc = history.history['acc']\n",
    "val_acc = history.history['val_acc']\n",
    "loss = history.history['loss']\n",
    "val_loss = history.history['val_loss']\n",
    "\n",
    "epochs = range(1, len(acc) + 1)\n",
    "\n",
    "plt.plot(epochs, acc, 'bo', label='Training acc')\n",
    "plt.plot(epochs, val_acc, 'b', label='Validation acc')\n",
    "plt.title('Training and validation accuracy')\n",
    "\n",
    "plt.legend()\n",
    "plt.figure()\n",
    "\n",
    "plt.plot(epochs, loss, 'bo', label='Training loss')\n",
    "plt.plot(epochs, val_loss, 'b', label='Validation loss')\n",
    "plt.title('Training and validation loss')\n",
    "plt.legend()\n",
    "\n",
    "plt.show()"
   ]
  },
  {
   "cell_type": "code",
   "execution_count": 27,
   "metadata": {},
   "outputs": [],
   "source": [
    "# TEST DATA\n",
    "\n",
    "\n",
    "# Tokenize test data\n",
    "test_dir = os.path.join(imdb_dir, 'test')\n",
    "labels = []\n",
    "texts = []\n",
    "\n",
    "for label_type in ['neg', 'pos']:\n",
    "    dir_name = os.path.join(test_dir, label_type)\n",
    "    for fname in sorted(os.listdir(dir_name)):\n",
    "        if fname[-4:] == '.txt':\n",
    "            f = open(os.path.join(dir_name, fname))\n",
    "        texts.append(f.read())\n",
    "        f.close()\n",
    "        if label_type == 'neg':\n",
    "            labels.append(0)\n",
    "        else:\n",
    "            labels.append(1)"
   ]
  },
  {
   "cell_type": "code",
   "execution_count": 28,
   "metadata": {},
   "outputs": [],
   "source": [
    "sequences = tokenizer.texts_to_sequences(texts)\n",
    "x_test = pad_sequences(sequences, maxlen=maxlen)\n",
    "y_test = np.asarray(labels)"
   ]
  },
  {
   "cell_type": "code",
   "execution_count": null,
   "metadata": {},
   "outputs": [],
   "source": [
    "model.load_weights('pre_trained_glove_model.h5')\n",
    "model.evaluate(x_test, y_test)"
   ]
  },
  {
   "cell_type": "code",
   "execution_count": null,
   "metadata": {},
   "outputs": [],
   "source": []
  }
 ],
 "metadata": {
  "kernelspec": {
   "display_name": "arena-py3.6-ipyenv",
   "language": "python",
   "name": "arena-py3.6-ipyenv"
  },
  "language_info": {
   "codemirror_mode": {
    "name": "ipython",
    "version": 3
   },
   "file_extension": ".py",
   "mimetype": "text/x-python",
   "name": "python",
   "nbconvert_exporter": "python",
   "pygments_lexer": "ipython3",
   "version": "3.6.4"
  }
 },
 "nbformat": 4,
 "nbformat_minor": 2
}
